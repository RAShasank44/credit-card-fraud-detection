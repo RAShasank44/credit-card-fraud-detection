{
  "nbformat": 4,
  "nbformat_minor": 0,
  "metadata": {
    "colab": {
      "provenance": []
    },
    "kernelspec": {
      "name": "python3",
      "display_name": "Python 3"
    },
    "language_info": {
      "name": "python"
    }
  },
  "cells": [
    {
      "cell_type": "code",
      "execution_count": 2,
      "metadata": {
        "colab": {
          "base_uri": "https://localhost:8080/",
          "height": 715
        },
        "id": "94WsNzXwrGAL",
        "outputId": "b055f8a7-9e4a-4271-97ef-ca3e3714d3de"
      },
      "outputs": [
        {
          "output_type": "stream",
          "name": "stderr",
          "text": [
            "/usr/local/lib/python3.12/dist-packages/xgboost/training.py:183: UserWarning: [19:12:22] WARNING: /workspace/src/learner.cc:738: \n",
            "Parameters: { \"use_label_encoder\" } are not used.\n",
            "\n",
            "  bst.update(dtrain, iteration=i, fobj=obj)\n"
          ]
        },
        {
          "output_type": "stream",
          "name": "stdout",
          "text": [
            "Classification Report:\n",
            "              precision    recall  f1-score   support\n",
            "\n",
            "           0     0.5385    0.6364    0.5833        11\n",
            "           1     0.4286    0.3333    0.3750         9\n",
            "\n",
            "    accuracy                         0.5000        20\n",
            "   macro avg     0.4835    0.4848    0.4792        20\n",
            "weighted avg     0.4890    0.5000    0.4896        20\n",
            "\n",
            "✅ Model saved at data/processed/xgb_fraud_model.pkl\n"
          ]
        },
        {
          "output_type": "display_data",
          "data": {
            "text/plain": [
              "<IPython.core.display.Javascript object>"
            ],
            "application/javascript": [
              "\n",
              "    async function download(id, filename, size) {\n",
              "      if (!google.colab.kernel.accessAllowed) {\n",
              "        return;\n",
              "      }\n",
              "      const div = document.createElement('div');\n",
              "      const label = document.createElement('label');\n",
              "      label.textContent = `Downloading \"${filename}\": `;\n",
              "      div.appendChild(label);\n",
              "      const progress = document.createElement('progress');\n",
              "      progress.max = size;\n",
              "      div.appendChild(progress);\n",
              "      document.body.appendChild(div);\n",
              "\n",
              "      const buffers = [];\n",
              "      let downloaded = 0;\n",
              "\n",
              "      const channel = await google.colab.kernel.comms.open(id);\n",
              "      // Send a message to notify the kernel that we're ready.\n",
              "      channel.send({})\n",
              "\n",
              "      for await (const message of channel.messages) {\n",
              "        // Send a message to notify the kernel that we're ready.\n",
              "        channel.send({})\n",
              "        if (message.buffers) {\n",
              "          for (const buffer of message.buffers) {\n",
              "            buffers.push(buffer);\n",
              "            downloaded += buffer.byteLength;\n",
              "            progress.value = downloaded;\n",
              "          }\n",
              "        }\n",
              "      }\n",
              "      const blob = new Blob(buffers, {type: 'application/binary'});\n",
              "      const a = document.createElement('a');\n",
              "      a.href = window.URL.createObjectURL(blob);\n",
              "      a.download = filename;\n",
              "      div.appendChild(a);\n",
              "      a.click();\n",
              "      div.remove();\n",
              "    }\n",
              "  "
            ]
          },
          "metadata": {}
        },
        {
          "output_type": "display_data",
          "data": {
            "text/plain": [
              "<IPython.core.display.Javascript object>"
            ],
            "application/javascript": [
              "download(\"download_a4cc4f55-d153-477d-afa2-3221d8bb1011\", \"xgb_fraud_model.pkl\", 112777)"
            ]
          },
          "metadata": {}
        },
        {
          "output_type": "display_data",
          "data": {
            "text/plain": [
              "<Figure size 640x480 with 2 Axes>"
            ],
            "image/png": "[encoded data removed]"
          },
          "metadata": {}
        }
      ],
      "source": [
        "from sklearn.model_selection import train_test_split\n",
        "from imblearn.over_sampling import SMOTE\n",
        "from xgboost import XGBClassifier\n",
        "from sklearn.metrics import classification_report, confusion_matrix, ConfusionMatrixDisplay\n",
        "import joblib\n",
        "import os\n",
        "\n",
        "# ================================\n",
        "# Load Data and Define Features and Target\n",
        "# ================================\n",
        "# TODO: Replace with your actual data loading and feature/target definition code\n",
        "# Example placeholder data:\n",
        "import numpy as np\n",
        "X = np.random.rand(100, 10)  # 100 samples, 10 features\n",
        "y = np.random.randint(0, 2, 100) # 100 samples, binary target\n",
        "\n",
        "# ================================\n",
        "# Train-Test Split\n",
        "# ================================\n",
        "X_train, X_test, y_train, y_test = train_test_split(X, y, test_size=0.2, random_state=42, stratify=y)\n",
        "\n",
        "# Handle imbalance with SMOTE\n",
        "sm = SMOTE(random_state=42)\n",
        "X_train_res, y_train_res = sm.fit_resample(X_train, y_train)\n",
        "\n",
        "# ================================\n",
        "# Train XGBoost\n",
        "# ================================\n",
        "ratio = (y_train_res==0).sum() / (y_train_res==1).sum()\n",
        "\n",
        "xgb_model = XGBClassifier(\n",
        "    scale_pos_weight=ratio,\n",
        "    n_estimators=100,\n",
        "    max_depth=5,\n",
        "    learning_rate=0.1,\n",
        "    use_label_encoder=False,\n",
        "    eval_metric='logloss',\n",
        "    random_state=42\n",
        ")\n",
        "\n",
        "xgb_model.fit(X_train_res, y_train_res)\n",
        "\n",
        "# Evaluate\n",
        "y_pred = xgb_model.predict(X_test)\n",
        "print(\"Classification Report:\")\n",
        "print(classification_report(y_test, y_pred, digits=4))\n",
        "ConfusionMatrixDisplay.from_predictions(y_test, y_pred, cmap=\"Blues\")\n",
        "\n",
        "# ================================\n",
        "# Save Model\n",
        "# ================================\n",
        "os.makedirs(\"data/processed\", exist_ok=True)\n",
        "joblib.dump(xgb_model, \"data/processed/xgb_fraud_model.pkl\")\n",
        "print(\"✅ Model saved at data/processed/xgb_fraud_model.pkl\")\n",
        "\n",
        "# ================================\n",
        "# Download Model from Colab\n",
        "# ================================\n",
        "from google.colab import files\n",
        "files.download(\"data/processed/xgb_fraud_model.pkl\")"
      ]
    }
  ]
}